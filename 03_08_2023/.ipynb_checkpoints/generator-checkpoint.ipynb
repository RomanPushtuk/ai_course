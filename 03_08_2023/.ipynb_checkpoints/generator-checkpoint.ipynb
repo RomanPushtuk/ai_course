{
 "cells": [
  {
   "cell_type": "code",
   "execution_count": 78,
   "metadata": {},
   "outputs": [],
   "source": [
    "from sklearn.datasets import make_classification, make_regression\n",
    "\n",
    "import pandas as pd"
   ]
  },
  {
   "cell_type": "markdown",
   "metadata": {},
   "source": [
    "### Датасет 1. Классификация. 1-мерный таргет. Без категориальных признаков"
   ]
  },
  {
   "cell_type": "code",
   "execution_count": 66,
   "metadata": {},
   "outputs": [],
   "source": [
    "X, y = make_classification(\n",
    "    n_samples=10451,\n",
    "    n_features=21,\n",
    "    n_informative=5,\n",
    "    n_redundant=4,\n",
    "    n_classes=2,\n",
    "    random_state=2023\n",
    ")"
   ]
  },
  {
   "cell_type": "code",
   "execution_count": 67,
   "metadata": {},
   "outputs": [],
   "source": [
    "data = pd.DataFrame(X, columns=['feature_' + str(i + 1) for i in range(X.shape[1])])\n",
    "data['target'] = y"
   ]
  },
  {
   "cell_type": "code",
   "execution_count": 68,
   "metadata": {},
   "outputs": [],
   "source": [
    "data.to_csv('data_1_dim_classification_no_categories.csv', index=False)"
   ]
  },
  {
   "cell_type": "markdown",
   "metadata": {},
   "source": [
    "### Датасет 2. Классификация. 1-мерный таргет. С категориальными признаками"
   ]
  },
  {
   "cell_type": "code",
   "execution_count": 69,
   "metadata": {},
   "outputs": [],
   "source": [
    "X, y = make_classification(\n",
    "    n_samples=12215,\n",
    "    n_features=21,\n",
    "    n_informative=5,\n",
    "    n_redundant=4,\n",
    "    n_classes=2,\n",
    "    random_state=2022\n",
    ")"
   ]
  },
  {
   "cell_type": "code",
   "execution_count": 70,
   "metadata": {},
   "outputs": [],
   "source": [
    "data = pd.DataFrame(X, columns=['feature_' + str(i + 1) for i in range(X.shape[1])])\n",
    "data['target'] = y\n",
    "data['feature_1'] = data['feature_1'].apply(lambda x: 'category_' + str(int(x - data['feature_1'].min())))"
   ]
  },
  {
   "cell_type": "code",
   "execution_count": 71,
   "metadata": {},
   "outputs": [],
   "source": [
    "data.to_csv('data_1_dim_classification_with_categories.csv', index=False)"
   ]
  },
  {
   "cell_type": "markdown",
   "metadata": {},
   "source": [
    "### Датасет 3. Класификация. Многомерный таргет"
   ]
  },
  {
   "cell_type": "code",
   "execution_count": 72,
   "metadata": {},
   "outputs": [],
   "source": [
    "X, y = make_classification(\n",
    "    n_samples=15126,\n",
    "    n_features=23,\n",
    "    n_informative=6,\n",
    "    n_redundant=3,\n",
    "    n_classes=5,\n",
    "    random_state=2021\n",
    ")"
   ]
  },
  {
   "cell_type": "code",
   "execution_count": 75,
   "metadata": {},
   "outputs": [],
   "source": [
    "data = pd.DataFrame(X, columns=['feature_' + str(i + 1) for i in range(X.shape[1])])\n",
    "data['target'] = y\n",
    "data['feature_3'] = data['feature_3'].apply(lambda x: 'category_' + str(int(x - data['feature_3'].min())))"
   ]
  },
  {
   "cell_type": "code",
   "execution_count": 76,
   "metadata": {},
   "outputs": [],
   "source": [
    "data.to_csv('data_5_dim_classification_with_categories.csv', index=False)"
   ]
  },
  {
   "cell_type": "markdown",
   "metadata": {},
   "source": [
    "### Датасет 4. Регрессия. Одномерный таргет"
   ]
  },
  {
   "cell_type": "code",
   "execution_count": 82,
   "metadata": {},
   "outputs": [],
   "source": [
    "X, y = make_regression(\n",
    "    n_samples=20842,\n",
    "    n_features=15,\n",
    "    n_informative=3,\n",
    "    n_targets=1,\n",
    "    noise=0.01,\n",
    "    random_state=2020\n",
    ")"
   ]
  },
  {
   "cell_type": "code",
   "execution_count": 83,
   "metadata": {},
   "outputs": [],
   "source": [
    "data = pd.DataFrame(X, columns=['feature_' + str(i + 1) for i in range(X.shape[1])])\n",
    "data['target'] = y\n",
    "data['feature_2'] = data['feature_2'].apply(lambda x: 'category_' + str(int(x - data['feature_2'].min())))"
   ]
  },
  {
   "cell_type": "code",
   "execution_count": 84,
   "metadata": {},
   "outputs": [],
   "source": [
    "data.to_csv('data_1_dim_regression_with_categories.csv', index=False)"
   ]
  },
  {
   "cell_type": "code",
   "execution_count": null,
   "metadata": {},
   "outputs": [],
   "source": []
  }
 ],
 "metadata": {
  "kernelspec": {
   "display_name": "Python 3 (ipykernel)",
   "language": "python",
   "name": "python3"
  },
  "language_info": {
   "codemirror_mode": {
    "name": "ipython",
    "version": 3
   },
   "file_extension": ".py",
   "mimetype": "text/x-python",
   "name": "python",
   "nbconvert_exporter": "python",
   "pygments_lexer": "ipython3",
   "version": "3.10.12"
  }
 },
 "nbformat": 4,
 "nbformat_minor": 4
}
