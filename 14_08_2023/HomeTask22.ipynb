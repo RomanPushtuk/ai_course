{
 "cells": [
  {
   "cell_type": "code",
   "execution_count": 186,
   "metadata": {},
   "outputs": [],
   "source": [
    "# ДЗ - попробовать разные методы уменьшения размерности\n",
    "import pandas as pd\n",
    "from sklearn.preprocessing import StandardScaler\n",
    "from sklearn.discriminant_analysis import LinearDiscriminantAnalysis\n",
    "from sklearn.decomposition import PCA\n",
    "from sklearn.preprocessing import OneHotEncoder\n",
    "import matplotlib.pyplot as plt"
   ]
  },
  {
   "cell_type": "code",
   "execution_count": 187,
   "id": "a7ce9895",
   "metadata": {},
   "outputs": [
    {
     "name": "stderr",
     "output_type": "stream",
     "text": [
      "c:\\Users\\r1233\\.conda\\envs\\HomeTask22\\lib\\site-packages\\sklearn\\preprocessing\\_encoders.py:972: FutureWarning: `sparse` was renamed to `sparse_output` in version 1.2 and will be removed in 1.4. `sparse_output` is ignored unless you leave `sparse` to its default value.\n",
      "  warnings.warn(\n"
     ]
    }
   ],
   "source": [
    "df = pd.read_csv(\"./heart.csv\")\n",
    "\n",
    "categorial_features = ['sex', 'cp', 'fbs', 'restecg', 'exang', 'slope', 'ca', 'thal', 'target']\n",
    "continuous_features = ['age', 'trestbps', 'chol', 'thalach', 'oldpeak', 'target']\n",
    "\n",
    "y = df[['target']]\n",
    "\n",
    "cat_df = df.drop(continuous_features, axis=1)\n",
    "cont_df = df.drop(categorial_features, axis=1)\n",
    "\n",
    "# Сделали из категоризальных фичей их one-hot представления\n",
    "onehot_encoder = OneHotEncoder(sparse=False)\n",
    "onehot_features = onehot_encoder.fit_transform(cat_df)\n",
    "\n",
    "encoded_categorical_columns = pd.DataFrame(onehot_features)\n",
    "new_df = cont_df.join(encoded_categorical_columns)"
   ]
  },
  {
   "cell_type": "code",
   "execution_count": 195,
   "id": "6f44afd7",
   "metadata": {},
   "outputs": [
    {
     "data": {
      "image/png": "[encoded data removed]",
      "text/plain": [
       "<Figure size 700x200 with 1 Axes>"
      ]
     },
     "metadata": {},
     "output_type": "display_data"
    }
   ],
   "source": [
    "new_df.columns = new_df.columns.astype(str)\n",
    "pca = PCA(n_components=1)\n",
    "X_pca = pca.fit_transform(new_df)\n",
    "X_pca_df = pd.DataFrame(X_pca)\n",
    "\n",
    "# scaler = StandardScaler()\n",
    "# X_scaled = scaler.fit_transform(X_pca_df)\n",
    "\n",
    "plt.figure(figsize=(7, 2))\n",
    "plt.scatter(X_pca_df, y)\n",
    "plt.show()\n"
   ]
  },
  {
   "cell_type": "code",
   "execution_count": 191,
   "metadata": {},
   "outputs": [
    {
     "name": "stderr",
     "output_type": "stream",
     "text": [
      "c:\\Users\\r1233\\.conda\\envs\\HomeTask22\\lib\\site-packages\\sklearn\\utils\\validation.py:1184: DataConversionWarning: A column-vector y was passed when a 1d array was expected. Please change the shape of y to (n_samples, ), for example using ravel().\n",
      "  y = column_or_1d(y, warn=True)\n"
     ]
    },
    {
     "data": {
      "image/png": "[encoded data removed]",
      "text/plain": [
       "<Figure size 700x200 with 1 Axes>"
      ]
     },
     "metadata": {},
     "output_type": "display_data"
    },
    {
     "data": {
      "text/html": [
       "<div>\n",
       "<style scoped>\n",
       "    .dataframe tbody tr th:only-of-type {\n",
       "        vertical-align: middle;\n",
       "    }\n",
       "\n",
       "    .dataframe tbody tr th {\n",
       "        vertical-align: top;\n",
       "    }\n",
       "\n",
       "    .dataframe thead th {\n",
       "        text-align: right;\n",
       "    }\n",
       "</style>\n",
       "<table border=\"1\" class=\"dataframe\">\n",
       "  <thead>\n",
       "    <tr style=\"text-align: right;\">\n",
       "      <th></th>\n",
       "      <th>0</th>\n",
       "    </tr>\n",
       "  </thead>\n",
       "  <tbody>\n",
       "    <tr>\n",
       "      <th>0</th>\n",
       "      <td>1.332131</td>\n",
       "    </tr>\n",
       "    <tr>\n",
       "      <th>1</th>\n",
       "      <td>1.241225</td>\n",
       "    </tr>\n",
       "    <tr>\n",
       "      <th>2</th>\n",
       "      <td>1.154133</td>\n",
       "    </tr>\n",
       "    <tr>\n",
       "      <th>3</th>\n",
       "      <td>1.016782</td>\n",
       "    </tr>\n",
       "    <tr>\n",
       "      <th>4</th>\n",
       "      <td>0.776928</td>\n",
       "    </tr>\n",
       "    <tr>\n",
       "      <th>...</th>\n",
       "      <td>...</td>\n",
       "    </tr>\n",
       "    <tr>\n",
       "      <th>1020</th>\n",
       "      <td>-1.319842</td>\n",
       "    </tr>\n",
       "    <tr>\n",
       "      <th>1021</th>\n",
       "      <td>2.596012</td>\n",
       "    </tr>\n",
       "    <tr>\n",
       "      <th>1022</th>\n",
       "      <td>1.672338</td>\n",
       "    </tr>\n",
       "    <tr>\n",
       "      <th>1023</th>\n",
       "      <td>-1.598359</td>\n",
       "    </tr>\n",
       "    <tr>\n",
       "      <th>1024</th>\n",
       "      <td>1.955744</td>\n",
       "    </tr>\n",
       "  </tbody>\n",
       "</table>\n",
       "<p>1025 rows × 1 columns</p>\n",
       "</div>"
      ],
      "text/plain": [
       "             0\n",
       "0     1.332131\n",
       "1     1.241225\n",
       "2     1.154133\n",
       "3     1.016782\n",
       "4     0.776928\n",
       "...        ...\n",
       "1020 -1.319842\n",
       "1021  2.596012\n",
       "1022  1.672338\n",
       "1023 -1.598359\n",
       "1024  1.955744\n",
       "\n",
       "[1025 rows x 1 columns]"
      ]
     },
     "execution_count": 191,
     "metadata": {},
     "output_type": "execute_result"
    }
   ],
   "source": [
    "lda = LinearDiscriminantAnalysis(n_components=1)\n",
    "X_lda = lda.fit_transform(new_df, y)\n",
    "X_lda_df = pd.DataFrame(X_lda)\n",
    "\n",
    "# X_y_lda_df = X_lda_df.join(y)\n",
    "\n",
    "plt.figure(figsize=(7, 2))\n",
    "# plt.plot(X_y_lda_df[X_y_lda_df['target'] == 1])\n",
    "# plt.plot(X_y_lda_df[X_y_lda_df['target'] == 0])\n",
    "plt.scatter(X_lda_df, y)\n",
    "plt.show()\n",
    "X_lda_df\n"
   ]
  }
 ],
 "metadata": {
  "kernelspec": {
   "display_name": "HomeTask22",
   "language": "python",
   "name": "python3"
  },
  "language_info": {
   "codemirror_mode": {
    "name": "ipython",
    "version": 3
   },
   "file_extension": ".py",
   "mimetype": "text/x-python",
   "name": "python",
   "nbconvert_exporter": "python",
   "pygments_lexer": "ipython3",
   "version": "3.10.12"
  }
 },
 "nbformat": 4,
 "nbformat_minor": 5
}
