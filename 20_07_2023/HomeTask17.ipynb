{
 "cells": [
  {
   "cell_type": "code",
   "execution_count": 27,
   "id": "5d13bd6b",
   "metadata": {},
   "outputs": [],
   "source": [
    "# Домашнее задание обучить ансамбль моделей\n",
    "# с использованием перекрестной проверки.\n",
    "\n",
    "import pandas as pd\n",
    "from sklearn.model_selection import train_test_split\n",
    "from sklearn.preprocessing import MinMaxScaler\n",
    "from sklearn.model_selection import KFold\n",
    "from sklearn.tree import DecisionTreeClassifier\n",
    "from sklearn.linear_model import LogisticRegression\n",
    "from sklearn.neighbors import KNeighborsClassifier\n",
    "from sklearn.svm import LinearSVC\n",
    "from sklearn.ensemble import StackingClassifier"
   ]
  },
  {
   "cell_type": "code",
   "execution_count": 60,
   "id": "5e896925",
   "metadata": {},
   "outputs": [
    {
     "data": {
      "text/plain": [
       "(768, 9)"
      ]
     },
     "execution_count": 60,
     "metadata": {},
     "output_type": "execute_result"
    }
   ],
   "source": [
    "# Загрузка датасета диабет \n",
    "url = \"https://raw.githubusercontent.com/jbrownlee/Datasets/master/pima-indians-diabetes.data.csv\"\n",
    "names = ['Pregnancies', 'Glucose', 'BloodPressure', 'SkinThickness', 'Insulin', 'BMI', 'DiabetesPedigreeFunction', 'Age', 'Outcome']\n",
    "data = pd.read_csv(url, names=names)\n",
    "# Make float64 to float32\n",
    "data['BMI'] = data['BMI'].astype('float32')\n",
    "data.describe()\n",
    "data.shape"
   ]
  },
  {
   "cell_type": "code",
   "execution_count": 61,
   "id": "8592c50e",
   "metadata": {},
   "outputs": [],
   "source": [
    "# Нормализируем данные\n",
    "features = data.loc[:, data.columns != 'Outcome']\n",
    "target = data['Outcome']\n",
    "\n",
    "scaler = MinMaxScaler(feature_range=(-1,1))\n",
    "scaler.fit(features)\n",
    "features = scaler.transform(features)"
   ]
  },
  {
   "cell_type": "code",
   "execution_count": 63,
   "id": "fb8729b2",
   "metadata": {},
   "outputs": [],
   "source": [
    "\n",
    "# Создали ансамбль моделей с использование стекинга\n",
    "logistic_regression_model = LogisticRegression(penalty='l2', C=1.0, solver='liblinear')\n",
    "k_neighbors_model = KNeighborsClassifier(n_neighbors=4)\n",
    "decision_tree_model = DecisionTreeClassifier(random_state=0)\n",
    "\n",
    "final_estimator = LinearSVC(random_state=0)\n",
    "\n",
    "estimators = [('lr', logistic_regression_model), ('kn', k_neighbors_model), ('dt', DecisionTreeClassifier())]\n",
    "\n",
    "modelClf = StackingClassifier(estimators=estimators, final_estimator=final_estimator)\n"
   ]
  },
  {
   "cell_type": "code",
   "execution_count": 69,
   "id": "801fa66d",
   "metadata": {},
   "outputs": [
    {
     "name": "stdout",
     "output_type": "stream",
     "text": [
      "0.6666666666666666\n",
      "0.8125\n",
      "0.7291666666666666\n",
      "0.7291666666666666\n",
      "0.7916666666666666\n",
      "0.7083333333333334\n",
      "0.7708333333333334\n",
      "0.8125\n",
      "0.75\n",
      "0.75\n",
      "0.8125\n",
      "0.8333333333333334\n",
      "0.7916666666666666\n",
      "0.75\n",
      "0.8333333333333334\n",
      "0.8333333333333334\n"
     ]
    }
   ],
   "source": [
    "# Применяем кросс-валидацию для обучения модели\n",
    "kf = KFold(n_splits=16, shuffle=True)\n",
    "\n",
    "for i, (train_index, test_index) in enumerate(kf.split(features, target)):\n",
    "    X_train, X_test, y_train, y_test = features[train_index], features[test_index], target[train_index], target[test_index]\n",
    "    modelClf.fit(X_train, y_train)\n",
    "    print(modelClf.score(X_test, y_test))\n"
   ]
  }
 ],
 "metadata": {
  "kernelspec": {
   "display_name": "Python 3 (ipykernel)",
   "language": "python",
   "name": "python3"
  },
  "language_info": {
   "codemirror_mode": {
    "name": "ipython",
    "version": 3
   },
   "file_extension": ".py",
   "mimetype": "text/x-python",
   "name": "python",
   "nbconvert_exporter": "python",
   "pygments_lexer": "ipython3",
   "version": "3.10.12"
  }
 },
 "nbformat": 4,
 "nbformat_minor": 5
}
